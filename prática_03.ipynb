{
 "cells": [
  {
   "cell_type": "code",
   "execution_count": 4,
   "id": "407bdba2-acb5-4286-9c56-3f171c4bed11",
   "metadata": {},
   "outputs": [],
   "source": [
    "import pandas as pd\n",
    "import numpy as np\n",
    "import matplotlib.pyplot as plt\n",
    "import datetime\n",
    "import scipy.signal as signal"
   ]
  },
  {
   "cell_type": "markdown",
   "id": "f6246127-7a5e-4744-9cfa-ef89884e3bce",
   "metadata": {},
   "source": [
    "### Carregando os dados em um dataframe"
   ]
  },
  {
   "cell_type": "code",
   "execution_count": 5,
   "id": "6debdbeb-4543-4e8d-87e7-b6db9237212a",
   "metadata": {},
   "outputs": [],
   "source": [
    "url = 'https://tidesandcurrents.noaa.gov/sltrends/data/874-051_meantrend.txt'\n",
    "\n",
    "cols = ['year', 'month', 'sealevel', 'linear_trend', 'high_conf', 'low_conf']\n",
    "\n",
    "df = pd.read_csv(url, header=6, delim_whitespace=True, names=cols, usecols=['year', 'month', 'sealevel'])\n",
    "\n",
    "## ler da url, nomes das colunas na linha 6, determina um espaço como o separador de colunas, \n",
    "## nomes das colunas/\"keys\", usecols separa os dados de interesse"
   ]
  },
  {
   "cell_type": "code",
   "execution_count": 6,
   "id": "f7a60518-e061-4ebb-9fc8-f166f8b4718f",
   "metadata": {},
   "outputs": [
    {
     "data": {
      "text/html": [
       "<div>\n",
       "<style scoped>\n",
       "    .dataframe tbody tr th:only-of-type {\n",
       "        vertical-align: middle;\n",
       "    }\n",
       "\n",
       "    .dataframe tbody tr th {\n",
       "        vertical-align: top;\n",
       "    }\n",
       "\n",
       "    .dataframe thead th {\n",
       "        text-align: right;\n",
       "    }\n",
       "</style>\n",
       "<table border=\"1\" class=\"dataframe\">\n",
       "  <thead>\n",
       "    <tr style=\"text-align: right;\">\n",
       "      <th></th>\n",
       "      <th>year</th>\n",
       "      <th>month</th>\n",
       "      <th>sealevel</th>\n",
       "    </tr>\n",
       "  </thead>\n",
       "  <tbody>\n",
       "    <tr>\n",
       "      <th>0</th>\n",
       "      <td>1954</td>\n",
       "      <td>5</td>\n",
       "      <td>6.871</td>\n",
       "    </tr>\n",
       "    <tr>\n",
       "      <th>1</th>\n",
       "      <td>1954</td>\n",
       "      <td>6</td>\n",
       "      <td>6.809</td>\n",
       "    </tr>\n",
       "    <tr>\n",
       "      <th>2</th>\n",
       "      <td>1954</td>\n",
       "      <td>7</td>\n",
       "      <td>6.800</td>\n",
       "    </tr>\n",
       "    <tr>\n",
       "      <th>3</th>\n",
       "      <td>1954</td>\n",
       "      <td>8</td>\n",
       "      <td>6.776</td>\n",
       "    </tr>\n",
       "    <tr>\n",
       "      <th>4</th>\n",
       "      <td>1954</td>\n",
       "      <td>9</td>\n",
       "      <td>6.834</td>\n",
       "    </tr>\n",
       "    <tr>\n",
       "      <th>...</th>\n",
       "      <td>...</td>\n",
       "      <td>...</td>\n",
       "      <td>...</td>\n",
       "    </tr>\n",
       "    <tr>\n",
       "      <th>608</th>\n",
       "      <td>2006</td>\n",
       "      <td>8</td>\n",
       "      <td>7.182</td>\n",
       "    </tr>\n",
       "    <tr>\n",
       "      <th>609</th>\n",
       "      <td>2006</td>\n",
       "      <td>9</td>\n",
       "      <td>7.157</td>\n",
       "    </tr>\n",
       "    <tr>\n",
       "      <th>610</th>\n",
       "      <td>2006</td>\n",
       "      <td>10</td>\n",
       "      <td>7.071</td>\n",
       "    </tr>\n",
       "    <tr>\n",
       "      <th>611</th>\n",
       "      <td>2006</td>\n",
       "      <td>11</td>\n",
       "      <td>7.121</td>\n",
       "    </tr>\n",
       "    <tr>\n",
       "      <th>612</th>\n",
       "      <td>2006</td>\n",
       "      <td>12</td>\n",
       "      <td>6.994</td>\n",
       "    </tr>\n",
       "  </tbody>\n",
       "</table>\n",
       "<p>613 rows × 3 columns</p>\n",
       "</div>"
      ],
      "text/plain": [
       "     year  month  sealevel\n",
       "0    1954      5     6.871\n",
       "1    1954      6     6.809\n",
       "2    1954      7     6.800\n",
       "3    1954      8     6.776\n",
       "4    1954      9     6.834\n",
       "..    ...    ...       ...\n",
       "608  2006      8     7.182\n",
       "609  2006      9     7.157\n",
       "610  2006     10     7.071\n",
       "611  2006     11     7.121\n",
       "612  2006     12     6.994\n",
       "\n",
       "[613 rows x 3 columns]"
      ]
     },
     "execution_count": 6,
     "metadata": {},
     "output_type": "execute_result"
    }
   ],
   "source": [
    "df"
   ]
  },
  {
   "cell_type": "markdown",
   "id": "ef20835d-2c8a-4358-adb9-34c14639bc2c",
   "metadata": {},
   "source": [
    "### Criar um array de datas e indexar o dataframe"
   ]
  },
  {
   "cell_type": "code",
   "execution_count": 7,
   "id": "89ecb05f-f71c-4a60-8d79-b6d6e68e8d1b",
   "metadata": {},
   "outputs": [],
   "source": [
    "# cria um array de datas no formato datetime64, precisa de argumentos de ano, mês e dia\n",
    "# k determina o tamanho do array\n",
    "time = [np.datetime64(datetime.datetime(year=df['year'][k], month=df['month'][k], day=15))\n",
    "    for k in range(len(df['year']))]\n",
    "\n",
    "#transforma em um array numpy\n",
    "time = np.array(time)\n",
    "\n",
    "# transforma em pandas datetime\n",
    "df['time'] = pd.to_datetime(time)\n",
    "\n",
    "# indexa o dataframe\n",
    "df = df.set_index('time')"
   ]
  },
  {
   "cell_type": "code",
   "execution_count": 8,
   "id": "9a29cc83-e778-43be-bd91-4b05f3db966b",
   "metadata": {},
   "outputs": [
    {
     "data": {
      "text/html": [
       "<div>\n",
       "<style scoped>\n",
       "    .dataframe tbody tr th:only-of-type {\n",
       "        vertical-align: middle;\n",
       "    }\n",
       "\n",
       "    .dataframe tbody tr th {\n",
       "        vertical-align: top;\n",
       "    }\n",
       "\n",
       "    .dataframe thead th {\n",
       "        text-align: right;\n",
       "    }\n",
       "</style>\n",
       "<table border=\"1\" class=\"dataframe\">\n",
       "  <thead>\n",
       "    <tr style=\"text-align: right;\">\n",
       "      <th></th>\n",
       "      <th>year</th>\n",
       "      <th>month</th>\n",
       "      <th>sealevel</th>\n",
       "    </tr>\n",
       "    <tr>\n",
       "      <th>time</th>\n",
       "      <th></th>\n",
       "      <th></th>\n",
       "      <th></th>\n",
       "    </tr>\n",
       "  </thead>\n",
       "  <tbody>\n",
       "    <tr>\n",
       "      <th>1954-05-15</th>\n",
       "      <td>1954</td>\n",
       "      <td>5</td>\n",
       "      <td>6.871</td>\n",
       "    </tr>\n",
       "    <tr>\n",
       "      <th>1954-06-15</th>\n",
       "      <td>1954</td>\n",
       "      <td>6</td>\n",
       "      <td>6.809</td>\n",
       "    </tr>\n",
       "    <tr>\n",
       "      <th>1954-07-15</th>\n",
       "      <td>1954</td>\n",
       "      <td>7</td>\n",
       "      <td>6.800</td>\n",
       "    </tr>\n",
       "    <tr>\n",
       "      <th>1954-08-15</th>\n",
       "      <td>1954</td>\n",
       "      <td>8</td>\n",
       "      <td>6.776</td>\n",
       "    </tr>\n",
       "    <tr>\n",
       "      <th>1954-09-15</th>\n",
       "      <td>1954</td>\n",
       "      <td>9</td>\n",
       "      <td>6.834</td>\n",
       "    </tr>\n",
       "    <tr>\n",
       "      <th>...</th>\n",
       "      <td>...</td>\n",
       "      <td>...</td>\n",
       "      <td>...</td>\n",
       "    </tr>\n",
       "    <tr>\n",
       "      <th>2006-08-15</th>\n",
       "      <td>2006</td>\n",
       "      <td>8</td>\n",
       "      <td>7.182</td>\n",
       "    </tr>\n",
       "    <tr>\n",
       "      <th>2006-09-15</th>\n",
       "      <td>2006</td>\n",
       "      <td>9</td>\n",
       "      <td>7.157</td>\n",
       "    </tr>\n",
       "    <tr>\n",
       "      <th>2006-10-15</th>\n",
       "      <td>2006</td>\n",
       "      <td>10</td>\n",
       "      <td>7.071</td>\n",
       "    </tr>\n",
       "    <tr>\n",
       "      <th>2006-11-15</th>\n",
       "      <td>2006</td>\n",
       "      <td>11</td>\n",
       "      <td>7.121</td>\n",
       "    </tr>\n",
       "    <tr>\n",
       "      <th>2006-12-15</th>\n",
       "      <td>2006</td>\n",
       "      <td>12</td>\n",
       "      <td>6.994</td>\n",
       "    </tr>\n",
       "  </tbody>\n",
       "</table>\n",
       "<p>613 rows × 3 columns</p>\n",
       "</div>"
      ],
      "text/plain": [
       "            year  month  sealevel\n",
       "time                             \n",
       "1954-05-15  1954      5     6.871\n",
       "1954-06-15  1954      6     6.809\n",
       "1954-07-15  1954      7     6.800\n",
       "1954-08-15  1954      8     6.776\n",
       "1954-09-15  1954      9     6.834\n",
       "...          ...    ...       ...\n",
       "2006-08-15  2006      8     7.182\n",
       "2006-09-15  2006      9     7.157\n",
       "2006-10-15  2006     10     7.071\n",
       "2006-11-15  2006     11     7.121\n",
       "2006-12-15  2006     12     6.994\n",
       "\n",
       "[613 rows x 3 columns]"
      ]
     },
     "execution_count": 8,
     "metadata": {},
     "output_type": "execute_result"
    }
   ],
   "source": [
    "df"
   ]
  },
  {
   "cell_type": "markdown",
   "id": "a2a673c3-1064-41b9-8107-32e0a13451f4",
   "metadata": {},
   "source": [
    "### Visualizar os dados (Passos 3 e 4)"
   ]
  },
  {
   "cell_type": "code",
   "execution_count": 9,
   "id": "685eef02-1cad-46df-8bc6-08552c8edc29",
   "metadata": {},
   "outputs": [
    {
     "data": {
      "text/plain": [
       "Index(['year', 'month', 'sealevel'], dtype='object')"
      ]
     },
     "execution_count": 9,
     "metadata": {},
     "output_type": "execute_result"
    }
   ],
   "source": [
    "df.keys()"
   ]
  },
  {
   "cell_type": "code",
   "execution_count": 10,
   "id": "b6c51d78-c212-4853-be2c-6889bf507e74",
   "metadata": {},
   "outputs": [
    {
     "data": {
      "text/plain": [
       "Text(0.5, 0, 'Time')"
      ]
     },
     "execution_count": 10,
     "metadata": {},
     "output_type": "execute_result"
    },
    {
     "data": {
      "image/png": "[encoded data removed]",
      "text/plain": [
       "<Figure size 800x400 with 1 Axes>"
      ]
     },
     "metadata": {},
     "output_type": "display_data"
    }
   ],
   "source": [
    "# plotar a figura\n",
    "fig = plt.figure(figsize = (8,4))\n",
    "ax1 = fig.add_subplot(111)\n",
    "\n",
    "# plotar o nível do mar com a plotagem do pandas\n",
    "df.plot(y='sealevel', ax=ax1, label='Sea Level')\n",
    "\n",
    "# adicionar labels e legendas\n",
    "plt.legend()\n",
    "ax1.set_ylabel('Sea Level [m]')\n",
    "ax1.set_xlabel('Time')\n",
    "\n",
    "# salvar a figura\n",
    "#plt.savefig('p3_sealevel')"
   ]
  },
  {
   "cell_type": "markdown",
   "id": "d0750d2b-4924-4b91-b008-d36bd7de3e95",
   "metadata": {},
   "source": [
    "#### Anotações:\n",
    "\n",
    "É perceptível uma tendência de aumento do nível do mar em Cananéia ao longo das décadas separadas da oscilação do nível do mar em menor escala de tempo.\n",
    "\n",
    "A amplitude da variabilidade é de 0,2 metros em 52 anos.\n",
    "\n",
    "Estimando:\n",
    "\n",
    "0,2 metros/ 52 anos = 200 mm/ 52 anos = 3.8461538461538463 mm/ano."
   ]
  },
  {
   "cell_type": "code",
   "execution_count": 11,
   "id": "1dfe168e-f0f0-4584-a1ef-107606c12364",
   "metadata": {},
   "outputs": [
    {
     "data": {
      "text/plain": [
       "3.8461538461538463"
      ]
     },
     "execution_count": 11,
     "metadata": {},
     "output_type": "execute_result"
    }
   ],
   "source": [
    "200/52"
   ]
  },
  {
   "cell_type": "markdown",
   "id": "bfd5d280-2d53-4bef-a0f6-9d9895523018",
   "metadata": {},
   "source": [
    "### Ajustar tendência linear mensal (Passo 4)"
   ]
  },
  {
   "cell_type": "code",
   "execution_count": 12,
   "id": "76c7d9eb-f8e2-4a0c-9fc1-9410b9ce3950",
   "metadata": {},
   "outputs": [],
   "source": [
    "# cria um array de elapsed time em ano inteiro e meses e dias em decimais\n",
    "# subtrai o tempo pelo tempo inicial, transforma em float e converte de microssegundos para anos\n",
    "time_years = (time - time[0]).astype(float)/1.e6/86400/365\n",
    "\n",
    "# cria um array de tempo em ano inteiro e meses e dias em decimais (ex. 1988,38428) a partir do tempo de referência 1970\n",
    "time_years_full = time.astype(float)/1.e6/86400/365 + 1970"
   ]
  },
  {
   "cell_type": "code",
   "execution_count": 13,
   "id": "99f7d97e-6bc3-4e76-bb68-73c7a4d1d96e",
   "metadata": {},
   "outputs": [
    {
     "data": {
      "text/plain": [
       "array([ 0.        ,  0.08493151,  0.16712329,  0.25205479,  0.3369863 ,\n",
       "        0.41917808,  0.50410959,  0.58630137,  0.67123288,  0.75616438,\n",
       "        0.83287671,  0.91780822,  1.        ,  1.08493151,  1.16712329,\n",
       "        1.25205479,  1.3369863 ,  1.41917808,  1.50410959,  1.58630137,\n",
       "        1.67123288,  1.75616438,  1.83561644,  1.92054795,  2.00273973,\n",
       "        2.08767123,  2.16986301,  2.25479452,  2.33972603,  2.42191781,\n",
       "        2.50684932,  2.5890411 ,  2.6739726 ,  2.75890411,  2.83561644,\n",
       "        2.92054795,  3.00273973,  3.08767123,  3.16986301,  3.25479452,\n",
       "        3.33972603,  3.42191781,  3.50684932,  3.5890411 ,  3.6739726 ,\n",
       "        3.75890411,  3.83561644,  3.92054795,  4.00273973,  4.08767123,\n",
       "        4.16986301,  4.25479452,  4.33972603,  4.42191781,  4.50684932,\n",
       "        4.5890411 ,  4.6739726 ,  4.75890411,  4.83561644,  4.92054795,\n",
       "        5.00273973,  5.08767123,  5.16986301,  5.25479452,  5.33972603,\n",
       "        5.42191781,  5.50684932,  5.5890411 ,  5.6739726 ,  5.75890411,\n",
       "        5.83835616,  5.92328767,  6.00547945,  6.09041096,  6.17260274,\n",
       "        6.25753425,  6.34246575,  6.42465753,  6.50958904,  6.59178082,\n",
       "        6.67671233,  6.76164384,  6.83835616,  6.92328767,  7.00547945,\n",
       "        7.09041096,  7.17260274,  7.25753425,  7.34246575,  7.42465753,\n",
       "        7.50958904,  7.59178082,  7.67671233,  7.76164384,  7.83835616,\n",
       "        7.92328767,  8.00547945,  8.09041096,  8.17260274,  8.25753425,\n",
       "        8.34246575,  8.42465753,  8.50958904,  8.59178082,  8.67671233,\n",
       "        8.76164384,  8.83835616,  8.92328767,  9.00547945,  9.09041096,\n",
       "        9.17260274,  9.25753425,  9.34246575,  9.42465753,  9.50958904,\n",
       "        9.59178082,  9.67671233,  9.76164384,  9.84109589,  9.9260274 ,\n",
       "       10.00821918, 10.09315068, 10.17534247, 10.26027397, 10.34520548,\n",
       "       10.42739726, 10.51232877, 10.59452055, 10.67945205, 10.76438356,\n",
       "       10.84109589, 10.9260274 , 11.00821918, 11.09315068, 11.17534247,\n",
       "       11.26027397, 11.34520548, 11.42739726, 11.51232877, 11.59452055,\n",
       "       11.67945205, 11.76438356, 11.84109589, 11.9260274 , 12.00821918,\n",
       "       12.09315068, 12.17534247, 12.26027397, 12.34520548, 12.42739726,\n",
       "       12.51232877, 12.59452055, 12.67945205, 12.76438356, 12.84109589,\n",
       "       12.9260274 , 13.00821918, 13.09315068, 13.17534247, 13.26027397,\n",
       "       13.34520548, 13.42739726, 13.51232877, 13.59452055, 13.67945205,\n",
       "       13.76438356, 13.84383562, 13.92876712, 14.0109589 , 14.09589041,\n",
       "       14.17808219, 14.2630137 , 14.34794521, 14.43013699, 14.51506849,\n",
       "       14.59726027, 14.68219178, 14.76712329, 14.84383562, 14.92876712,\n",
       "       15.0109589 , 15.09589041, 15.17808219, 15.2630137 , 15.34794521,\n",
       "       15.43013699, 15.51506849, 15.59726027, 15.68219178, 15.76712329,\n",
       "       15.84383562, 15.92876712, 16.0109589 , 16.09589041, 16.17808219,\n",
       "       16.2630137 , 16.34794521, 16.43013699, 16.51506849, 16.59726027,\n",
       "       16.68219178, 16.76712329, 16.84383562, 16.92876712, 17.0109589 ,\n",
       "       17.09589041, 17.17808219, 17.2630137 , 17.34794521, 17.43013699,\n",
       "       17.51506849, 17.59726027, 17.68219178, 17.76712329, 17.84657534,\n",
       "       17.93150685, 18.01369863, 18.09863014, 18.18082192, 18.26575342,\n",
       "       18.35068493, 18.43287671, 18.51780822, 18.6       , 18.68493151,\n",
       "       18.76986301, 18.84657534, 18.93150685, 19.01369863, 19.09863014,\n",
       "       19.18082192, 19.26575342, 19.35068493, 19.43287671, 19.51780822,\n",
       "       19.6       , 19.68493151, 19.76986301, 19.84657534, 19.93150685,\n",
       "       20.01369863, 20.09863014, 20.18082192, 20.26575342, 20.35068493,\n",
       "       20.43287671, 20.51780822, 20.6       , 20.68493151, 20.76986301,\n",
       "       20.84657534, 20.93150685, 21.01369863, 21.09863014, 21.18082192,\n",
       "       21.26575342, 21.35068493, 21.43287671, 21.51780822, 21.6       ,\n",
       "       21.68493151, 21.76986301, 21.84931507, 21.93424658, 22.01643836,\n",
       "       22.10136986, 22.18356164, 22.26849315, 22.35342466, 22.43561644,\n",
       "       22.52054795, 22.60273973, 22.68767123, 22.77260274, 22.84931507,\n",
       "       22.93424658, 23.01643836, 23.10136986, 23.18356164, 23.26849315,\n",
       "       23.35342466, 23.43561644, 23.52054795, 23.60273973, 23.68767123,\n",
       "       23.77260274, 23.84931507, 23.93424658, 24.01643836, 24.10136986,\n",
       "       24.18356164, 24.26849315, 24.35342466, 24.43561644, 24.52054795,\n",
       "       24.60273973, 24.68767123, 24.77260274, 24.84931507, 24.93424658,\n",
       "       25.01643836, 25.10136986, 25.18356164, 25.26849315, 25.35342466,\n",
       "       25.43561644, 25.52054795, 25.60273973, 25.68767123, 25.77260274,\n",
       "       25.85205479, 25.9369863 , 26.01917808, 26.10410959, 26.18630137,\n",
       "       26.27123288, 26.35616438, 26.43835616, 26.52328767, 26.60547945,\n",
       "       26.69041096, 26.77534247, 26.85205479, 26.9369863 , 27.01917808,\n",
       "       27.10410959, 27.18630137, 27.27123288, 27.35616438, 27.43835616,\n",
       "       27.52328767, 27.60547945, 27.69041096, 27.77534247, 27.85205479,\n",
       "       27.9369863 , 28.01917808, 28.10410959, 28.18630137, 28.27123288,\n",
       "       28.35616438, 28.43835616, 28.52328767, 28.60547945, 28.69041096,\n",
       "       28.77534247, 28.85205479, 28.9369863 , 29.01917808, 29.10410959,\n",
       "       29.18630137, 29.27123288, 29.35616438, 29.43835616, 29.52328767,\n",
       "       29.60547945, 29.69041096, 29.77534247, 29.85479452, 29.93972603,\n",
       "       30.02191781, 30.10684932, 30.1890411 , 30.2739726 , 30.35890411,\n",
       "       30.44109589, 30.5260274 , 30.60821918, 30.69315068, 30.77808219,\n",
       "       30.85479452, 30.93972603, 31.02191781, 31.10684932, 31.1890411 ,\n",
       "       31.2739726 , 31.35890411, 31.44109589, 31.5260274 , 31.60821918,\n",
       "       31.69315068, 31.77808219, 31.85479452, 31.93972603, 32.02191781,\n",
       "       32.10684932, 32.1890411 , 32.2739726 , 32.35890411, 32.44109589,\n",
       "       32.5260274 , 32.60821918, 32.69315068, 32.77808219, 32.85479452,\n",
       "       32.93972603, 33.02191781, 33.10684932, 33.1890411 , 33.2739726 ,\n",
       "       33.35890411, 33.44109589, 33.5260274 , 33.60821918, 33.69315068,\n",
       "       33.77808219, 33.85753425, 33.94246575, 34.02465753, 34.10958904,\n",
       "       34.19178082, 34.27671233, 34.36164384, 34.44383562, 34.52876712,\n",
       "       34.6109589 , 34.69589041, 34.78082192, 34.85753425, 34.94246575,\n",
       "       35.02465753, 35.10958904, 35.19178082, 35.27671233, 35.36164384,\n",
       "       35.44383562, 35.52876712, 35.6109589 , 35.69589041, 35.78082192,\n",
       "       35.85753425, 35.94246575, 36.02465753, 36.10958904, 36.19178082,\n",
       "       36.27671233, 36.36164384, 36.44383562, 36.52876712, 36.6109589 ,\n",
       "       36.69589041, 36.78082192, 36.85753425, 36.94246575, 37.02465753,\n",
       "       37.10958904, 37.19178082, 37.27671233, 37.36164384, 37.44383562,\n",
       "       37.52876712, 37.6109589 , 37.69589041, 37.78082192, 37.86027397,\n",
       "       37.94520548, 38.02739726, 38.11232877, 38.19452055, 38.27945205,\n",
       "       38.36438356, 38.44657534, 38.53150685, 38.61369863, 38.69863014,\n",
       "       38.78356164, 38.86027397, 38.94520548, 39.02739726, 39.11232877,\n",
       "       39.19452055, 39.27945205, 39.36438356, 39.44657534, 39.53150685,\n",
       "       39.61369863, 39.69863014, 39.78356164, 39.86027397, 39.94520548,\n",
       "       40.02739726, 40.11232877, 40.19452055, 40.27945205, 40.36438356,\n",
       "       40.44657534, 40.53150685, 40.61369863, 40.69863014, 40.78356164,\n",
       "       40.86027397, 40.94520548, 41.02739726, 41.11232877, 41.27945205,\n",
       "       41.36438356, 41.44657534, 41.53150685, 41.61369863, 41.69863014,\n",
       "       41.78356164, 41.8630137 , 41.94794521, 42.03013699, 42.11506849,\n",
       "       42.19726027, 42.28219178, 42.36712329, 42.44931507, 42.53424658,\n",
       "       42.61643836, 42.70136986, 42.78630137, 42.8630137 , 42.94794521,\n",
       "       43.03013699, 43.11506849, 43.19726027, 43.28219178, 43.36712329,\n",
       "       43.44931507, 43.53424658, 43.61643836, 43.70136986, 43.78630137,\n",
       "       43.8630137 , 43.94794521, 44.03013699, 44.11506849, 44.19726027,\n",
       "       44.28219178, 44.36712329, 44.44931507, 44.53424658, 44.61643836,\n",
       "       44.70136986, 44.78630137, 44.8630137 , 44.94794521, 45.03013699,\n",
       "       45.11506849, 45.19726027, 45.28219178, 45.36712329, 45.44931507,\n",
       "       45.53424658, 45.61643836, 45.70136986, 45.78630137, 45.86575342,\n",
       "       45.95068493, 46.03287671, 46.11780822, 46.2       , 46.28493151,\n",
       "       46.36986301, 46.45205479, 46.5369863 , 46.61917808, 46.70410959,\n",
       "       46.7890411 , 46.86575342, 46.95068493, 47.03287671, 47.11780822,\n",
       "       47.2       , 47.28493151, 47.36986301, 47.45205479, 47.5369863 ,\n",
       "       47.61917808, 47.70410959, 47.7890411 , 47.86575342, 47.95068493,\n",
       "       48.03287671, 48.11780822, 48.2       , 48.28493151, 48.45205479,\n",
       "       48.5369863 , 48.61917808, 48.70410959, 48.7890411 , 48.86575342,\n",
       "       48.95068493, 49.03287671, 49.11780822, 49.2       , 49.28493151,\n",
       "       49.36986301, 49.45205479, 49.5369863 , 49.61917808, 49.70410959,\n",
       "       49.7890411 , 49.86849315, 49.95342466, 50.03561644, 50.12054795,\n",
       "       50.20273973, 50.28767123, 50.37260274, 50.45479452, 50.53972603,\n",
       "       50.62191781, 52.12054795, 52.20273973, 52.28767123, 52.37260274,\n",
       "       52.45479452, 52.53972603, 52.62191781])"
      ]
     },
     "execution_count": 13,
     "metadata": {},
     "output_type": "execute_result"
    }
   ],
   "source": [
    "time_years"
   ]
  },
  {
   "cell_type": "code",
   "execution_count": 15,
   "id": "d61dc0fd-a7f9-41e5-869d-f4ad81dc9aa0",
   "metadata": {},
   "outputs": [],
   "source": [
    "# função ajusta polinômios de acordo com o grau desejado e retorna uma matriz com os índices do polinômio\n",
    "func = np.polyfit(time_years, df['sealevel'], 1)\n",
    "trend = (time_years*func[0])+func[-1]\n",
    "df['trend'] = trend"
   ]
  },
  {
   "cell_type": "code",
   "execution_count": 16,
   "id": "59ae0bc8-7008-4ebb-988b-64bb4cdda5ad",
   "metadata": {},
   "outputs": [
    {
     "data": {
      "text/plain": [
       "array([4.17092743e-03, 6.82636121e+00])"
      ]
     },
     "execution_count": 16,
     "metadata": {},
     "output_type": "execute_result"
    }
   ],
   "source": [
    "func"
   ]
  },
  {
   "cell_type": "code",
   "execution_count": 17,
   "id": "ec338dc2-6eb6-4749-8c54-7d1430354f8f",
   "metadata": {},
   "outputs": [
    {
     "data": {
      "text/html": [
       "<div>\n",
       "<style scoped>\n",
       "    .dataframe tbody tr th:only-of-type {\n",
       "        vertical-align: middle;\n",
       "    }\n",
       "\n",
       "    .dataframe tbody tr th {\n",
       "        vertical-align: top;\n",
       "    }\n",
       "\n",
       "    .dataframe thead th {\n",
       "        text-align: right;\n",
       "    }\n",
       "</style>\n",
       "<table border=\"1\" class=\"dataframe\">\n",
       "  <thead>\n",
       "    <tr style=\"text-align: right;\">\n",
       "      <th></th>\n",
       "      <th>year</th>\n",
       "      <th>month</th>\n",
       "      <th>sealevel</th>\n",
       "      <th>trend</th>\n",
       "    </tr>\n",
       "    <tr>\n",
       "      <th>time</th>\n",
       "      <th></th>\n",
       "      <th></th>\n",
       "      <th></th>\n",
       "      <th></th>\n",
       "    </tr>\n",
       "  </thead>\n",
       "  <tbody>\n",
       "    <tr>\n",
       "      <th>1954-05-15</th>\n",
       "      <td>1954</td>\n",
       "      <td>5</td>\n",
       "      <td>6.871</td>\n",
       "      <td>6.826361</td>\n",
       "    </tr>\n",
       "    <tr>\n",
       "      <th>1954-06-15</th>\n",
       "      <td>1954</td>\n",
       "      <td>6</td>\n",
       "      <td>6.809</td>\n",
       "      <td>6.826715</td>\n",
       "    </tr>\n",
       "    <tr>\n",
       "      <th>1954-07-15</th>\n",
       "      <td>1954</td>\n",
       "      <td>7</td>\n",
       "      <td>6.800</td>\n",
       "      <td>6.827058</td>\n",
       "    </tr>\n",
       "    <tr>\n",
       "      <th>1954-08-15</th>\n",
       "      <td>1954</td>\n",
       "      <td>8</td>\n",
       "      <td>6.776</td>\n",
       "      <td>6.827413</td>\n",
       "    </tr>\n",
       "    <tr>\n",
       "      <th>1954-09-15</th>\n",
       "      <td>1954</td>\n",
       "      <td>9</td>\n",
       "      <td>6.834</td>\n",
       "      <td>6.827767</td>\n",
       "    </tr>\n",
       "    <tr>\n",
       "      <th>...</th>\n",
       "      <td>...</td>\n",
       "      <td>...</td>\n",
       "      <td>...</td>\n",
       "      <td>...</td>\n",
       "    </tr>\n",
       "    <tr>\n",
       "      <th>2006-08-15</th>\n",
       "      <td>2006</td>\n",
       "      <td>8</td>\n",
       "      <td>7.182</td>\n",
       "      <td>7.044449</td>\n",
       "    </tr>\n",
       "    <tr>\n",
       "      <th>2006-09-15</th>\n",
       "      <td>2006</td>\n",
       "      <td>9</td>\n",
       "      <td>7.157</td>\n",
       "      <td>7.044804</td>\n",
       "    </tr>\n",
       "    <tr>\n",
       "      <th>2006-10-15</th>\n",
       "      <td>2006</td>\n",
       "      <td>10</td>\n",
       "      <td>7.071</td>\n",
       "      <td>7.045146</td>\n",
       "    </tr>\n",
       "    <tr>\n",
       "      <th>2006-11-15</th>\n",
       "      <td>2006</td>\n",
       "      <td>11</td>\n",
       "      <td>7.121</td>\n",
       "      <td>7.045501</td>\n",
       "    </tr>\n",
       "    <tr>\n",
       "      <th>2006-12-15</th>\n",
       "      <td>2006</td>\n",
       "      <td>12</td>\n",
       "      <td>6.994</td>\n",
       "      <td>7.045843</td>\n",
       "    </tr>\n",
       "  </tbody>\n",
       "</table>\n",
       "<p>613 rows × 4 columns</p>\n",
       "</div>"
      ],
      "text/plain": [
       "            year  month  sealevel     trend\n",
       "time                                       \n",
       "1954-05-15  1954      5     6.871  6.826361\n",
       "1954-06-15  1954      6     6.809  6.826715\n",
       "1954-07-15  1954      7     6.800  6.827058\n",
       "1954-08-15  1954      8     6.776  6.827413\n",
       "1954-09-15  1954      9     6.834  6.827767\n",
       "...          ...    ...       ...       ...\n",
       "2006-08-15  2006      8     7.182  7.044449\n",
       "2006-09-15  2006      9     7.157  7.044804\n",
       "2006-10-15  2006     10     7.071  7.045146\n",
       "2006-11-15  2006     11     7.121  7.045501\n",
       "2006-12-15  2006     12     6.994  7.045843\n",
       "\n",
       "[613 rows x 4 columns]"
      ]
     },
     "execution_count": 17,
     "metadata": {},
     "output_type": "execute_result"
    }
   ],
   "source": [
    "df"
   ]
  },
  {
   "cell_type": "code",
   "execution_count": 22,
   "id": "43988990-06c9-4dac-85b1-c251a2a511a1",
   "metadata": {},
   "outputs": [
    {
     "data": {
      "text/plain": [
       "Text(0.5, 0, 'Time')"
      ]
     },
     "execution_count": 22,
     "metadata": {},
     "output_type": "execute_result"
    },
    {
     "data": {
      "image/png": "[encoded data removed]",
      "text/plain": [
       "<Figure size 800x400 with 1 Axes>"
      ]
     },
     "metadata": {},
     "output_type": "display_data"
    }
   ],
   "source": [
    "# plotar a figura\n",
    "fig = plt.figure(figsize = (8,4))\n",
    "ax1 = fig.add_subplot(111)\n",
    "\n",
    "# plotar o sealevel e a tendência\n",
    "df.plot(y='sealevel', ax=ax1, label='Sea Level')\n",
    "df.plot(y='trend', ax=ax1, label='Linear Trend', c='black')\n",
    "\n",
    "# adicionar legendas e labels\n",
    "plt.legend()\n",
    "ax1.set_ylabel('Sea Level [m]')\n",
    "ax1.set_xlabel('Time')\n",
    "\n",
    "# salvar imagem\n",
    "#plt.savefig('p3_lineartrend')"
   ]
  },
  {
   "cell_type": "markdown",
   "id": "26d9e602-9e60-49fe-a787-2a2f4b3b3a9d",
   "metadata": {},
   "source": [
    "### Média anual (Passo 5)"
   ]
  },
  {
   "cell_type": "code",
   "execution_count": 20,
   "id": "7bd77351-8d18-4edb-bce2-2f3f1da07c01",
   "metadata": {},
   "outputs": [
    {
     "data": {
      "text/plain": [
       "year\n",
       "1954    6.827250\n",
       "1955    6.829083\n",
       "1956    6.833833\n",
       "1957    6.830083\n",
       "1958    6.859917\n",
       "1959    6.868583\n",
       "1960    6.899417\n",
       "1961    6.908083\n",
       "1962    6.891333\n",
       "1963    6.904333\n",
       "1964    6.902167\n",
       "1965    6.895000\n",
       "1966    6.866667\n",
       "1967    6.870333\n",
       "1968    6.841417\n",
       "1969    6.870500\n",
       "1970    6.827500\n",
       "1971    6.874500\n",
       "1972    6.855250\n",
       "1973    6.884167\n",
       "1974    6.889000\n",
       "1975    6.850167\n",
       "1976    6.850917\n",
       "1977    6.882083\n",
       "1978    6.907000\n",
       "1979    6.942583\n",
       "1980    6.966250\n",
       "1981    6.945000\n",
       "1982    6.962833\n",
       "1983    7.008333\n",
       "1984    7.000167\n",
       "1985    6.965250\n",
       "1986    6.993083\n",
       "1987    7.020167\n",
       "1988    6.956167\n",
       "1989    6.943417\n",
       "1990    6.974667\n",
       "1991    6.941750\n",
       "1992    6.971833\n",
       "1993    7.001583\n",
       "1994    6.979417\n",
       "1995    7.034727\n",
       "1996    6.957417\n",
       "1997    6.968083\n",
       "1998    7.015583\n",
       "1999    7.008833\n",
       "2000    7.002500\n",
       "2001    7.007000\n",
       "2002    7.043909\n",
       "2003    7.094917\n",
       "2004    7.043417\n",
       "2006    7.097286\n",
       "Name: sealevel, dtype: float64"
      ]
     },
     "execution_count": 20,
     "metadata": {},
     "output_type": "execute_result"
    }
   ],
   "source": [
    "# separa os valores por ano e faz a média dos sealevels, retorna uma pandas series\n",
    "group = df.groupby('year')['sealevel'].mean()\n",
    "group"
   ]
  },
  {
   "cell_type": "code",
   "execution_count": 21,
   "id": "e1af2720-7ce2-42ff-9f63-3542b277b145",
   "metadata": {},
   "outputs": [],
   "source": [
    "# cria a tendência das médias anuais\n",
    "func2 = np.polyfit(group.index, group, 1)\n",
    "trend2 = (time_years_full*func2[0]) + func2[-1]\n",
    "df['trend2'] = trend2"
   ]
  },
  {
   "cell_type": "code",
   "execution_count": 23,
   "id": "d16883ff-1a7a-4eef-a767-918fdab75ac6",
   "metadata": {},
   "outputs": [
    {
     "data": {
      "text/plain": [
       "Text(0.5, 0, 'Time')"
      ]
     },
     "execution_count": 23,
     "metadata": {},
     "output_type": "execute_result"
    },
    {
     "data": {
      "image/png": "[encoded data removed]",
      "text/plain": [
       "<Figure size 800x400 with 1 Axes>"
      ]
     },
     "metadata": {},
     "output_type": "display_data"
    }
   ],
   "source": [
    "# plotar a figura\n",
    "fig = plt.figure(figsize = (8,4))\n",
    "ax1 = fig.add_subplot(111)\n",
    "\n",
    "# plotar as tendências, médias e sealevel\n",
    "plt.plot(time_years_full, df['sealevel'], label='Monthly mean', c='lightblue')\n",
    "plt.plot(time_years_full, df['trend'], label='Monthly linear trend', c='black')\n",
    "plt.plot(group.index, group, label='Annual mean')\n",
    "plt.plot(time_years_full, df['trend2'], label='Annual linear trend', c='lightgrey')\n",
    "\n",
    "# adicionar legendas e labels\n",
    "plt.legend()\n",
    "ax1.set_ylabel('Sea Level [m]')\n",
    "ax1.set_xlabel('Time')\n",
    "\n",
    "# salvar a figura\n",
    "#plt.savefig('p3_monthly_annual')"
   ]
  },
  {
   "cell_type": "markdown",
   "id": "1bba9ae8-2373-4c6c-bf48-2309abab512d",
   "metadata": {},
   "source": [
    "### Anomalia do nível do mar (Passo 6)"
   ]
  },
  {
   "cell_type": "code",
   "execution_count": 24,
   "id": "bba1c6b2-eed1-4070-adb9-2083883921cd",
   "metadata": {},
   "outputs": [],
   "source": [
    "# calcular a anomalia das médias anuais em relação à media total\n",
    "anomaly = group - df['sealevel'].mean()"
   ]
  },
  {
   "cell_type": "code",
   "execution_count": 25,
   "id": "0a245fe8-822f-4c1a-9eb3-677069b2f0e1",
   "metadata": {},
   "outputs": [
    {
     "data": {
      "text/plain": [
       "year\n",
       "1954   -0.105708\n",
       "1955   -0.103874\n",
       "1956   -0.099124\n",
       "1957   -0.102874\n",
       "1958   -0.073041\n",
       "1959   -0.064374\n",
       "1960   -0.033541\n",
       "1961   -0.024874\n",
       "1962   -0.041624\n",
       "1963   -0.028624\n",
       "1964   -0.030791\n",
       "1965   -0.037958\n",
       "1966   -0.066291\n",
       "1967   -0.062624\n",
       "1968   -0.091541\n",
       "1969   -0.062458\n",
       "1970   -0.105458\n",
       "1971   -0.058458\n",
       "1972   -0.077708\n",
       "1973   -0.048791\n",
       "1974   -0.043958\n",
       "1975   -0.082791\n",
       "1976   -0.082041\n",
       "1977   -0.050874\n",
       "1978   -0.025958\n",
       "1979    0.009626\n",
       "1980    0.033292\n",
       "1981    0.012042\n",
       "1982    0.029876\n",
       "1983    0.075376\n",
       "1984    0.067209\n",
       "1985    0.032292\n",
       "1986    0.060126\n",
       "1987    0.087209\n",
       "1988    0.023209\n",
       "1989    0.010459\n",
       "1990    0.041709\n",
       "1991    0.008792\n",
       "1992    0.038876\n",
       "1993    0.068626\n",
       "1994    0.046459\n",
       "1995    0.101770\n",
       "1996    0.024459\n",
       "1997    0.035126\n",
       "1998    0.082626\n",
       "1999    0.075876\n",
       "2000    0.069542\n",
       "2001    0.074042\n",
       "2002    0.110952\n",
       "2003    0.161959\n",
       "2004    0.110459\n",
       "2006    0.164328\n",
       "Name: sealevel, dtype: float64"
      ]
     },
     "execution_count": 25,
     "metadata": {},
     "output_type": "execute_result"
    }
   ],
   "source": [
    "anomaly"
   ]
  },
  {
   "cell_type": "code",
   "execution_count": 26,
   "id": "0f991ece-0f63-4c93-9195-90dc84f8835b",
   "metadata": {},
   "outputs": [],
   "source": [
    "# tirar a tendência da anomalia\n",
    "anomaly_detrended = signal.detrend(anomaly)"
   ]
  },
  {
   "cell_type": "code",
   "execution_count": 23,
   "id": "42170145-a1b8-448c-b489-5ab692a95044",
   "metadata": {},
   "outputs": [
    {
     "data": {
      "text/plain": [
       "array([ 0.00130644, -0.00109529, -0.00058035, -0.00856541,  0.01703286,\n",
       "        0.02146447,  0.04806274,  0.05249435,  0.03150929,  0.04027423,\n",
       "        0.0338725 ,  0.02247077, -0.01009762, -0.01066602, -0.04381774,\n",
       "       -0.01896947, -0.06620453, -0.02343959, -0.04692465, -0.02224304,\n",
       "       -0.02164477, -0.06471317, -0.06819823, -0.04126662, -0.02058501,\n",
       "        0.01076326,  0.03019487,  0.00470981,  0.01830808,  0.05957302,\n",
       "        0.04717129,  0.00801956,  0.03161784,  0.05446611, -0.01376895,\n",
       "       -0.03075401, -0.00373907, -0.0408908 , -0.01504253,  0.01047241,\n",
       "       -0.01592931,  0.03514623, -0.04639943, -0.03996783,  0.00329711,\n",
       "       -0.00768795, -0.01825634, -0.0179914 ,  0.01468263,  0.06145514,\n",
       "        0.00572008,  0.05535407])"
      ]
     },
     "execution_count": 23,
     "metadata": {},
     "output_type": "execute_result"
    }
   ],
   "source": [
    "anomaly_detrended"
   ]
  },
  {
   "cell_type": "code",
   "execution_count": 27,
   "id": "50ef5674-cb85-4846-99e6-a52e22e1b1eb",
   "metadata": {},
   "outputs": [
    {
     "data": {
      "text/plain": [
       "Text(0, 0.5, 'Sea Level Anomaly [m]')"
      ]
     },
     "execution_count": 27,
     "metadata": {},
     "output_type": "execute_result"
    },
    {
     "data": {
      "image/png": "[encoded data removed]",
      "text/plain": [
       "<Figure size 800x400 with 1 Axes>"
      ]
     },
     "metadata": {},
     "output_type": "display_data"
    }
   ],
   "source": [
    "# plotar a figura\n",
    "plt.figure(figsize=(8,4))\n",
    "\n",
    "# plotar a anomalia sem tendência por ano\n",
    "plt.plot(group.index, anomaly_detrended, c='black')\n",
    "\n",
    "# colorir condicionalmente entre duas curvas y, determinar a cor para cada relação entre elas\n",
    "plt.fill_between(group.index, anomaly_detrended, 0, where = (anomaly_detrended>0), facecolor = 'lightblue')\n",
    "plt.fill_between(group.index, anomaly_detrended, 0, where = (anomaly_detrended<0), facecolor = 'lightpink')\n",
    "\n",
    "# adicionar labels\n",
    "plt.ylabel('Sea Level Anomaly [m]')\n",
    "\n",
    "# salvar a imagem\n",
    "#plt.savefig('p3_anomaly')"
   ]
  },
  {
   "cell_type": "code",
   "execution_count": 28,
   "id": "3dc99fbb-567c-4980-be89-7f502f18e8cf",
   "metadata": {},
   "outputs": [
    {
     "data": {
      "text/plain": [
       "count    52.000000\n",
       "mean      0.000980\n",
       "std       0.072653\n",
       "min      -0.105708\n",
       "25%      -0.062499\n",
       "50%       0.009209\n",
       "75%       0.061897\n",
       "max       0.164328\n",
       "Name: sealevel, dtype: float64"
      ]
     },
     "execution_count": 28,
     "metadata": {},
     "output_type": "execute_result"
    }
   ],
   "source": [
    "# descreve com o pandas os valores estatísticos da anomalia\n",
    "anomaly.describe()"
   ]
  },
  {
   "cell_type": "markdown",
   "id": "66cfa2fd-a620-48be-bc67-6291f7d8d725",
   "metadata": {},
   "source": [
    "### Correlação entre nível médio do mar anual e nível de CO2 atmosférico (Passo 7)"
   ]
  },
  {
   "cell_type": "code",
   "execution_count": 30,
   "id": "da2a229e-842e-448b-9ab3-7f48f00b9f51",
   "metadata": {},
   "outputs": [],
   "source": [
    "url2 = 'https://datahub.io/core/co2-ppm/r/co2-mm-mlo.csv'"
   ]
  },
  {
   "cell_type": "code",
   "execution_count": 34,
   "id": "321743a9-5fa8-40e9-9989-c2908451c99d",
   "metadata": {},
   "outputs": [],
   "source": [
    "# carregar os dados da curva de keeling cortando os últimos anos de dados (para alinhar os tamanhos dos dataframes)\n",
    "keeling = pd.read_csv(url2,sep=',', nrows=586)"
   ]
  },
  {
   "cell_type": "code",
   "execution_count": 35,
   "id": "43549f61-9e21-44db-94eb-3cdc603a4a1b",
   "metadata": {},
   "outputs": [
    {
     "data": {
      "text/html": [
       "<div>\n",
       "<style scoped>\n",
       "    .dataframe tbody tr th:only-of-type {\n",
       "        vertical-align: middle;\n",
       "    }\n",
       "\n",
       "    .dataframe tbody tr th {\n",
       "        vertical-align: top;\n",
       "    }\n",
       "\n",
       "    .dataframe thead th {\n",
       "        text-align: right;\n",
       "    }\n",
       "</style>\n",
       "<table border=\"1\" class=\"dataframe\">\n",
       "  <thead>\n",
       "    <tr style=\"text-align: right;\">\n",
       "      <th></th>\n",
       "      <th>Date</th>\n",
       "      <th>Decimal Date</th>\n",
       "      <th>Average</th>\n",
       "      <th>Interpolated</th>\n",
       "      <th>Trend</th>\n",
       "      <th>Number of Days</th>\n",
       "    </tr>\n",
       "  </thead>\n",
       "  <tbody>\n",
       "    <tr>\n",
       "      <th>0</th>\n",
       "      <td>1958-03-01</td>\n",
       "      <td>1958.208</td>\n",
       "      <td>315.71</td>\n",
       "      <td>315.71</td>\n",
       "      <td>314.62</td>\n",
       "      <td>-1</td>\n",
       "    </tr>\n",
       "    <tr>\n",
       "      <th>1</th>\n",
       "      <td>1958-04-01</td>\n",
       "      <td>1958.292</td>\n",
       "      <td>317.45</td>\n",
       "      <td>317.45</td>\n",
       "      <td>315.29</td>\n",
       "      <td>-1</td>\n",
       "    </tr>\n",
       "    <tr>\n",
       "      <th>2</th>\n",
       "      <td>1958-05-01</td>\n",
       "      <td>1958.375</td>\n",
       "      <td>317.50</td>\n",
       "      <td>317.50</td>\n",
       "      <td>314.71</td>\n",
       "      <td>-1</td>\n",
       "    </tr>\n",
       "    <tr>\n",
       "      <th>3</th>\n",
       "      <td>1958-06-01</td>\n",
       "      <td>1958.458</td>\n",
       "      <td>-99.99</td>\n",
       "      <td>317.10</td>\n",
       "      <td>314.85</td>\n",
       "      <td>-1</td>\n",
       "    </tr>\n",
       "    <tr>\n",
       "      <th>4</th>\n",
       "      <td>1958-07-01</td>\n",
       "      <td>1958.542</td>\n",
       "      <td>315.86</td>\n",
       "      <td>315.86</td>\n",
       "      <td>314.98</td>\n",
       "      <td>-1</td>\n",
       "    </tr>\n",
       "    <tr>\n",
       "      <th>...</th>\n",
       "      <td>...</td>\n",
       "      <td>...</td>\n",
       "      <td>...</td>\n",
       "      <td>...</td>\n",
       "      <td>...</td>\n",
       "      <td>...</td>\n",
       "    </tr>\n",
       "    <tr>\n",
       "      <th>581</th>\n",
       "      <td>2006-08-01</td>\n",
       "      <td>2006.625</td>\n",
       "      <td>380.41</td>\n",
       "      <td>380.41</td>\n",
       "      <td>382.08</td>\n",
       "      <td>27</td>\n",
       "    </tr>\n",
       "    <tr>\n",
       "      <th>582</th>\n",
       "      <td>2006-09-01</td>\n",
       "      <td>2006.708</td>\n",
       "      <td>378.85</td>\n",
       "      <td>378.85</td>\n",
       "      <td>382.16</td>\n",
       "      <td>27</td>\n",
       "    </tr>\n",
       "    <tr>\n",
       "      <th>583</th>\n",
       "      <td>2006-10-01</td>\n",
       "      <td>2006.792</td>\n",
       "      <td>379.13</td>\n",
       "      <td>379.13</td>\n",
       "      <td>382.46</td>\n",
       "      <td>23</td>\n",
       "    </tr>\n",
       "    <tr>\n",
       "      <th>584</th>\n",
       "      <td>2006-11-01</td>\n",
       "      <td>2006.875</td>\n",
       "      <td>380.15</td>\n",
       "      <td>380.15</td>\n",
       "      <td>382.33</td>\n",
       "      <td>29</td>\n",
       "    </tr>\n",
       "    <tr>\n",
       "      <th>585</th>\n",
       "      <td>2006-12-01</td>\n",
       "      <td>2006.958</td>\n",
       "      <td>381.82</td>\n",
       "      <td>381.82</td>\n",
       "      <td>382.64</td>\n",
       "      <td>27</td>\n",
       "    </tr>\n",
       "  </tbody>\n",
       "</table>\n",
       "<p>586 rows × 6 columns</p>\n",
       "</div>"
      ],
      "text/plain": [
       "           Date  Decimal Date  Average  Interpolated   Trend  Number of Days\n",
       "0    1958-03-01      1958.208   315.71        315.71  314.62              -1\n",
       "1    1958-04-01      1958.292   317.45        317.45  315.29              -1\n",
       "2    1958-05-01      1958.375   317.50        317.50  314.71              -1\n",
       "3    1958-06-01      1958.458   -99.99        317.10  314.85              -1\n",
       "4    1958-07-01      1958.542   315.86        315.86  314.98              -1\n",
       "..          ...           ...      ...           ...     ...             ...\n",
       "581  2006-08-01      2006.625   380.41        380.41  382.08              27\n",
       "582  2006-09-01      2006.708   378.85        378.85  382.16              27\n",
       "583  2006-10-01      2006.792   379.13        379.13  382.46              23\n",
       "584  2006-11-01      2006.875   380.15        380.15  382.33              29\n",
       "585  2006-12-01      2006.958   381.82        381.82  382.64              27\n",
       "\n",
       "[586 rows x 6 columns]"
      ]
     },
     "execution_count": 35,
     "metadata": {},
     "output_type": "execute_result"
    }
   ],
   "source": [
    "keeling"
   ]
  },
  {
   "cell_type": "code",
   "execution_count": 36,
   "id": "c6aec5d9-4374-426e-ade0-33b790f3ac1c",
   "metadata": {},
   "outputs": [],
   "source": [
    "## TERMINAR (USAR FUNÇÃO INTERSECTION DO PANDAS PARA SEPARAR DIRETAMENTE AS DATAS IGUAIS ENTRE KEELING E O DATAFRAME)\n",
    "\n",
    "#df4 = pd.read_csv(url, header=6, delim_whitespace=True, names=cols, usecols=['year', 'month', 'sealevel'])\n",
    "#time2 = [np.datetime64(datetime.datetime(year=df4['year'][k], month=df4['month'][k], day=01))\n",
    " #   for k in range(len(df4['year']))]\n",
    "#time2 = np.array(time2)\n",
    "\n",
    "#df4['time'] = pd.to_datetime(time2)\n",
    "\n",
    "#df = df.set_index('time')\n",
    "\n",
    "#df4.intersection(keeling)"
   ]
  },
  {
   "cell_type": "code",
   "execution_count": 37,
   "id": "105c5594-ecc4-4e31-b4bc-11a36704d0e0",
   "metadata": {},
   "outputs": [
    {
     "data": {
      "text/html": [
       "<div>\n",
       "<style scoped>\n",
       "    .dataframe tbody tr th:only-of-type {\n",
       "        vertical-align: middle;\n",
       "    }\n",
       "\n",
       "    .dataframe tbody tr th {\n",
       "        vertical-align: top;\n",
       "    }\n",
       "\n",
       "    .dataframe thead th {\n",
       "        text-align: right;\n",
       "    }\n",
       "</style>\n",
       "<table border=\"1\" class=\"dataframe\">\n",
       "  <thead>\n",
       "    <tr style=\"text-align: right;\">\n",
       "      <th></th>\n",
       "      <th>year</th>\n",
       "      <th>month</th>\n",
       "      <th>sealevel</th>\n",
       "      <th>trend</th>\n",
       "      <th>trend2</th>\n",
       "    </tr>\n",
       "    <tr>\n",
       "      <th>time</th>\n",
       "      <th></th>\n",
       "      <th></th>\n",
       "      <th></th>\n",
       "      <th></th>\n",
       "      <th></th>\n",
       "    </tr>\n",
       "  </thead>\n",
       "  <tbody>\n",
       "    <tr>\n",
       "      <th>1954-05-15</th>\n",
       "      <td>1954</td>\n",
       "      <td>5</td>\n",
       "      <td>6.871</td>\n",
       "      <td>6.826361</td>\n",
       "      <td>6.827492</td>\n",
       "    </tr>\n",
       "    <tr>\n",
       "      <th>1954-06-15</th>\n",
       "      <td>1954</td>\n",
       "      <td>6</td>\n",
       "      <td>6.809</td>\n",
       "      <td>6.826715</td>\n",
       "      <td>6.827851</td>\n",
       "    </tr>\n",
       "    <tr>\n",
       "      <th>1954-07-15</th>\n",
       "      <td>1954</td>\n",
       "      <td>7</td>\n",
       "      <td>6.800</td>\n",
       "      <td>6.827058</td>\n",
       "      <td>6.828199</td>\n",
       "    </tr>\n",
       "    <tr>\n",
       "      <th>1954-08-15</th>\n",
       "      <td>1954</td>\n",
       "      <td>8</td>\n",
       "      <td>6.776</td>\n",
       "      <td>6.827413</td>\n",
       "      <td>6.828558</td>\n",
       "    </tr>\n",
       "    <tr>\n",
       "      <th>1954-09-15</th>\n",
       "      <td>1954</td>\n",
       "      <td>9</td>\n",
       "      <td>6.834</td>\n",
       "      <td>6.827767</td>\n",
       "      <td>6.828917</td>\n",
       "    </tr>\n",
       "    <tr>\n",
       "      <th>...</th>\n",
       "      <td>...</td>\n",
       "      <td>...</td>\n",
       "      <td>...</td>\n",
       "      <td>...</td>\n",
       "      <td>...</td>\n",
       "    </tr>\n",
       "    <tr>\n",
       "      <th>2006-08-15</th>\n",
       "      <td>2006</td>\n",
       "      <td>8</td>\n",
       "      <td>7.182</td>\n",
       "      <td>7.044449</td>\n",
       "      <td>7.048681</td>\n",
       "    </tr>\n",
       "    <tr>\n",
       "      <th>2006-09-15</th>\n",
       "      <td>2006</td>\n",
       "      <td>9</td>\n",
       "      <td>7.157</td>\n",
       "      <td>7.044804</td>\n",
       "      <td>7.049040</td>\n",
       "    </tr>\n",
       "    <tr>\n",
       "      <th>2006-10-15</th>\n",
       "      <td>2006</td>\n",
       "      <td>10</td>\n",
       "      <td>7.071</td>\n",
       "      <td>7.045146</td>\n",
       "      <td>7.049388</td>\n",
       "    </tr>\n",
       "    <tr>\n",
       "      <th>2006-11-15</th>\n",
       "      <td>2006</td>\n",
       "      <td>11</td>\n",
       "      <td>7.121</td>\n",
       "      <td>7.045501</td>\n",
       "      <td>7.049747</td>\n",
       "    </tr>\n",
       "    <tr>\n",
       "      <th>2006-12-15</th>\n",
       "      <td>2006</td>\n",
       "      <td>12</td>\n",
       "      <td>6.994</td>\n",
       "      <td>7.045843</td>\n",
       "      <td>7.050095</td>\n",
       "    </tr>\n",
       "  </tbody>\n",
       "</table>\n",
       "<p>613 rows × 5 columns</p>\n",
       "</div>"
      ],
      "text/plain": [
       "            year  month  sealevel     trend    trend2\n",
       "time                                                 \n",
       "1954-05-15  1954      5     6.871  6.826361  6.827492\n",
       "1954-06-15  1954      6     6.809  6.826715  6.827851\n",
       "1954-07-15  1954      7     6.800  6.827058  6.828199\n",
       "1954-08-15  1954      8     6.776  6.827413  6.828558\n",
       "1954-09-15  1954      9     6.834  6.827767  6.828917\n",
       "...          ...    ...       ...       ...       ...\n",
       "2006-08-15  2006      8     7.182  7.044449  7.048681\n",
       "2006-09-15  2006      9     7.157  7.044804  7.049040\n",
       "2006-10-15  2006     10     7.071  7.045146  7.049388\n",
       "2006-11-15  2006     11     7.121  7.045501  7.049747\n",
       "2006-12-15  2006     12     6.994  7.045843  7.050095\n",
       "\n",
       "[613 rows x 5 columns]"
      ]
     },
     "execution_count": 37,
     "metadata": {},
     "output_type": "execute_result"
    }
   ],
   "source": [
    "# copia o dataframe para não alterar os dados já plotados anteriormente\n",
    "df2 = df.copy()\n",
    "df2"
   ]
  },
  {
   "cell_type": "code",
   "execution_count": 38,
   "id": "df651a6d-80f2-4ab7-a082-bf91f14626db",
   "metadata": {},
   "outputs": [],
   "source": [
    "# função where transforma todos os dados posteriores a 1958 em nan e o dropna os remove\n",
    "df3 = df2.where(df2.year>=1958).dropna()"
   ]
  },
  {
   "cell_type": "code",
   "execution_count": 39,
   "id": "eda7d6db-c26c-4a7c-ab68-7a32b928e113",
   "metadata": {},
   "outputs": [
    {
     "data": {
      "text/plain": [
       "year\n",
       "1958.0    6.859917\n",
       "1959.0    6.868583\n",
       "1960.0    6.899417\n",
       "1961.0    6.908083\n",
       "1962.0    6.891333\n",
       "1963.0    6.904333\n",
       "1964.0    6.902167\n",
       "1965.0    6.895000\n",
       "1966.0    6.866667\n",
       "1967.0    6.870333\n",
       "1968.0    6.841417\n",
       "1969.0    6.870500\n",
       "1970.0    6.827500\n",
       "1971.0    6.874500\n",
       "1972.0    6.855250\n",
       "1973.0    6.884167\n",
       "1974.0    6.889000\n",
       "1975.0    6.850167\n",
       "1976.0    6.850917\n",
       "1977.0    6.882083\n",
       "1978.0    6.907000\n",
       "1979.0    6.942583\n",
       "1980.0    6.966250\n",
       "1981.0    6.945000\n",
       "1982.0    6.962833\n",
       "1983.0    7.008333\n",
       "1984.0    7.000167\n",
       "1985.0    6.965250\n",
       "1986.0    6.993083\n",
       "1987.0    7.020167\n",
       "1988.0    6.956167\n",
       "1989.0    6.943417\n",
       "1990.0    6.974667\n",
       "1991.0    6.941750\n",
       "1992.0    6.971833\n",
       "1993.0    7.001583\n",
       "1994.0    6.979417\n",
       "1995.0    7.034727\n",
       "1996.0    6.957417\n",
       "1997.0    6.968083\n",
       "1998.0    7.015583\n",
       "1999.0    7.008833\n",
       "2000.0    7.002500\n",
       "2001.0    7.007000\n",
       "2002.0    7.043909\n",
       "2003.0    7.094917\n",
       "2004.0    7.043417\n",
       "2006.0    7.097286\n",
       "Name: sealevel, dtype: float64"
      ]
     },
     "execution_count": 39,
     "metadata": {},
     "output_type": "execute_result"
    }
   ],
   "source": [
    "# agrupar os dados de nível do mar por ano e fazer a média anual\n",
    "annual_mean = df3.groupby('year')['sealevel'].mean()\n",
    "annual_mean"
   ]
  },
  {
   "cell_type": "code",
   "execution_count": 40,
   "id": "13b6b3b9-d37b-4605-84b2-4bf5c341e2da",
   "metadata": {},
   "outputs": [],
   "source": [
    "## t0 = np.datetime64('1958-01-01')\n",
    "### df2.where(df2.index>=t0)"
   ]
  },
  {
   "cell_type": "code",
   "execution_count": 41,
   "id": "b4ee9d2c-c058-43c0-ad91-fbf2a81cc760",
   "metadata": {},
   "outputs": [],
   "source": [
    "# transforma a data decimal do keeling em inteiro e em inteiro, adicionando essa variável ao dataframe\n",
    "keeling['k_years'] = (keeling['Decimal Date']*100//100).astype('int')"
   ]
  },
  {
   "cell_type": "code",
   "execution_count": 42,
   "id": "37d4a435-271d-4dfb-bd54-f4d61a71ba19",
   "metadata": {},
   "outputs": [
    {
     "data": {
      "text/html": [
       "<div>\n",
       "<style scoped>\n",
       "    .dataframe tbody tr th:only-of-type {\n",
       "        vertical-align: middle;\n",
       "    }\n",
       "\n",
       "    .dataframe tbody tr th {\n",
       "        vertical-align: top;\n",
       "    }\n",
       "\n",
       "    .dataframe thead th {\n",
       "        text-align: right;\n",
       "    }\n",
       "</style>\n",
       "<table border=\"1\" class=\"dataframe\">\n",
       "  <thead>\n",
       "    <tr style=\"text-align: right;\">\n",
       "      <th></th>\n",
       "      <th>Date</th>\n",
       "      <th>Decimal Date</th>\n",
       "      <th>Average</th>\n",
       "      <th>Interpolated</th>\n",
       "      <th>Trend</th>\n",
       "      <th>Number of Days</th>\n",
       "      <th>k_years</th>\n",
       "    </tr>\n",
       "  </thead>\n",
       "  <tbody>\n",
       "    <tr>\n",
       "      <th>0</th>\n",
       "      <td>1958-03-01</td>\n",
       "      <td>1958.208</td>\n",
       "      <td>315.71</td>\n",
       "      <td>315.71</td>\n",
       "      <td>314.62</td>\n",
       "      <td>-1</td>\n",
       "      <td>1958</td>\n",
       "    </tr>\n",
       "    <tr>\n",
       "      <th>1</th>\n",
       "      <td>1958-04-01</td>\n",
       "      <td>1958.292</td>\n",
       "      <td>317.45</td>\n",
       "      <td>317.45</td>\n",
       "      <td>315.29</td>\n",
       "      <td>-1</td>\n",
       "      <td>1958</td>\n",
       "    </tr>\n",
       "    <tr>\n",
       "      <th>2</th>\n",
       "      <td>1958-05-01</td>\n",
       "      <td>1958.375</td>\n",
       "      <td>317.50</td>\n",
       "      <td>317.50</td>\n",
       "      <td>314.71</td>\n",
       "      <td>-1</td>\n",
       "      <td>1958</td>\n",
       "    </tr>\n",
       "    <tr>\n",
       "      <th>3</th>\n",
       "      <td>1958-06-01</td>\n",
       "      <td>1958.458</td>\n",
       "      <td>-99.99</td>\n",
       "      <td>317.10</td>\n",
       "      <td>314.85</td>\n",
       "      <td>-1</td>\n",
       "      <td>1958</td>\n",
       "    </tr>\n",
       "    <tr>\n",
       "      <th>4</th>\n",
       "      <td>1958-07-01</td>\n",
       "      <td>1958.542</td>\n",
       "      <td>315.86</td>\n",
       "      <td>315.86</td>\n",
       "      <td>314.98</td>\n",
       "      <td>-1</td>\n",
       "      <td>1958</td>\n",
       "    </tr>\n",
       "    <tr>\n",
       "      <th>...</th>\n",
       "      <td>...</td>\n",
       "      <td>...</td>\n",
       "      <td>...</td>\n",
       "      <td>...</td>\n",
       "      <td>...</td>\n",
       "      <td>...</td>\n",
       "      <td>...</td>\n",
       "    </tr>\n",
       "    <tr>\n",
       "      <th>581</th>\n",
       "      <td>2006-08-01</td>\n",
       "      <td>2006.625</td>\n",
       "      <td>380.41</td>\n",
       "      <td>380.41</td>\n",
       "      <td>382.08</td>\n",
       "      <td>27</td>\n",
       "      <td>2006</td>\n",
       "    </tr>\n",
       "    <tr>\n",
       "      <th>582</th>\n",
       "      <td>2006-09-01</td>\n",
       "      <td>2006.708</td>\n",
       "      <td>378.85</td>\n",
       "      <td>378.85</td>\n",
       "      <td>382.16</td>\n",
       "      <td>27</td>\n",
       "      <td>2006</td>\n",
       "    </tr>\n",
       "    <tr>\n",
       "      <th>583</th>\n",
       "      <td>2006-10-01</td>\n",
       "      <td>2006.792</td>\n",
       "      <td>379.13</td>\n",
       "      <td>379.13</td>\n",
       "      <td>382.46</td>\n",
       "      <td>23</td>\n",
       "      <td>2006</td>\n",
       "    </tr>\n",
       "    <tr>\n",
       "      <th>584</th>\n",
       "      <td>2006-11-01</td>\n",
       "      <td>2006.875</td>\n",
       "      <td>380.15</td>\n",
       "      <td>380.15</td>\n",
       "      <td>382.33</td>\n",
       "      <td>29</td>\n",
       "      <td>2006</td>\n",
       "    </tr>\n",
       "    <tr>\n",
       "      <th>585</th>\n",
       "      <td>2006-12-01</td>\n",
       "      <td>2006.958</td>\n",
       "      <td>381.82</td>\n",
       "      <td>381.82</td>\n",
       "      <td>382.64</td>\n",
       "      <td>27</td>\n",
       "      <td>2006</td>\n",
       "    </tr>\n",
       "  </tbody>\n",
       "</table>\n",
       "<p>586 rows × 7 columns</p>\n",
       "</div>"
      ],
      "text/plain": [
       "           Date  Decimal Date  Average  Interpolated   Trend  Number of Days  \\\n",
       "0    1958-03-01      1958.208   315.71        315.71  314.62              -1   \n",
       "1    1958-04-01      1958.292   317.45        317.45  315.29              -1   \n",
       "2    1958-05-01      1958.375   317.50        317.50  314.71              -1   \n",
       "3    1958-06-01      1958.458   -99.99        317.10  314.85              -1   \n",
       "4    1958-07-01      1958.542   315.86        315.86  314.98              -1   \n",
       "..          ...           ...      ...           ...     ...             ...   \n",
       "581  2006-08-01      2006.625   380.41        380.41  382.08              27   \n",
       "582  2006-09-01      2006.708   378.85        378.85  382.16              27   \n",
       "583  2006-10-01      2006.792   379.13        379.13  382.46              23   \n",
       "584  2006-11-01      2006.875   380.15        380.15  382.33              29   \n",
       "585  2006-12-01      2006.958   381.82        381.82  382.64              27   \n",
       "\n",
       "     k_years  \n",
       "0       1958  \n",
       "1       1958  \n",
       "2       1958  \n",
       "3       1958  \n",
       "4       1958  \n",
       "..       ...  \n",
       "581     2006  \n",
       "582     2006  \n",
       "583     2006  \n",
       "584     2006  \n",
       "585     2006  \n",
       "\n",
       "[586 rows x 7 columns]"
      ]
     },
     "execution_count": 42,
     "metadata": {},
     "output_type": "execute_result"
    }
   ],
   "source": [
    "keeling"
   ]
  },
  {
   "cell_type": "code",
   "execution_count": 43,
   "id": "8f76099d-a880-4172-9ae4-0a362184b876",
   "metadata": {},
   "outputs": [
    {
     "data": {
      "text/plain": [
       "k_years\n",
       "1958    232.267000\n",
       "1959    315.974167\n",
       "1960    316.907500\n",
       "1961    317.637500\n",
       "1962    318.450833\n",
       "1963    318.994167\n",
       "1964    214.405833\n",
       "1965    320.044167\n",
       "1966    321.383333\n",
       "1967    322.157500\n",
       "1968    323.045000\n",
       "1969    324.624167\n",
       "1970    325.680000\n",
       "1971    326.320000\n",
       "1972    327.453333\n",
       "1973    329.676667\n",
       "1974    330.185000\n",
       "1975    295.234167\n",
       "1976    332.040000\n",
       "1977    333.831667\n",
       "1978    335.403333\n",
       "1979    336.841667\n",
       "1980    338.751667\n",
       "1981    340.105000\n",
       "1982    341.447500\n",
       "1983    343.054167\n",
       "1984    307.414167\n",
       "1985    346.115833\n",
       "1986    347.420833\n",
       "1987    349.194167\n",
       "1988    351.567500\n",
       "1989    353.120833\n",
       "1990    354.394167\n",
       "1991    355.607500\n",
       "1992    356.445833\n",
       "1993    357.100000\n",
       "1994    358.832500\n",
       "1995    360.820000\n",
       "1996    362.606667\n",
       "1997    363.729167\n",
       "1998    366.699167\n",
       "1999    368.377500\n",
       "2000    369.548333\n",
       "2001    371.142500\n",
       "2002    373.279167\n",
       "2003    375.801667\n",
       "2004    377.522500\n",
       "2006    381.895833\n",
       "Name: Average, dtype: float64"
      ]
     },
     "execution_count": 43,
     "metadata": {},
     "output_type": "execute_result"
    }
   ],
   "source": [
    "# agrupa o dataframe de acordo com a nova variável e faz a média anual a partir dos dados de gás carbônico atmosférico\n",
    "k2 = keeling.groupby('k_years')['Average'].mean()\n",
    "# remove o ano escolhido da série obtida com o groupby, já que os dados do nível do mar têm esse gap\n",
    "k3 = k2.drop(2005)\n",
    "k3"
   ]
  },
  {
   "cell_type": "code",
   "execution_count": 44,
   "id": "83717930-effb-4a12-8fd2-434ef916b7d6",
   "metadata": {},
   "outputs": [
    {
     "data": {
      "text/plain": [
       "array([[1.        , 0.66273503],\n",
       "       [0.66273503, 1.        ]])"
      ]
     },
     "execution_count": 44,
     "metadata": {},
     "output_type": "execute_result"
    }
   ],
   "source": [
    "# faz a correlação entre os dois dados e retorna uma matriz de correlação\n",
    "np.corrcoef(annual_mean, k3)"
   ]
  },
  {
   "cell_type": "code",
   "execution_count": 53,
   "id": "edea6675-9ff6-4cce-bbea-9f2b15f52f30",
   "metadata": {},
   "outputs": [
    {
     "data": {
      "text/plain": [
       "[<matplotlib.lines.Line2D at 0x7f7b1c471d20>]"
      ]
     },
     "execution_count": 53,
     "metadata": {},
     "output_type": "execute_result"
    },
    {
     "data": {
      "image/png": "[encoded data removed]",
      "text/plain": [
       "<Figure size 640x480 with 1 Axes>"
      ]
     },
     "metadata": {},
     "output_type": "display_data"
    }
   ],
   "source": [
    "# plota os dados de média anual do nível do mar e keeling\n",
    "plt.plot(annual_mean, k3, '.')\n",
    "\n",
    "# ajusta o polinômio de grau 1 da tendência\n",
    "func3 = np.polyfit(annual_mean, k3, 1)\n",
    "\n",
    "# calcula a tendência a partir dos valores da média anual do nível do mar\n",
    "trend3 = (annual_mean*func3[0]) + func3[-1]\n",
    "\n",
    "# plota a tendência em função da média anual do nível do mar\n",
    "plt.plot(annual_mean, trend3)"
   ]
  },
  {
   "cell_type": "code",
   "execution_count": null,
   "id": "9b4556ce-a957-40ee-9be6-c708c5d2436d",
   "metadata": {},
   "outputs": [],
   "source": []
  }
 ],
 "metadata": {
  "kernelspec": {
   "display_name": "Python 3 (ipykernel)",
   "language": "python",
   "name": "python3"
  },
  "language_info": {
   "codemirror_mode": {
    "name": "ipython",
    "version": 3
   },
   "file_extension": ".py",
   "mimetype": "text/x-python",
   "name": "python",
   "nbconvert_exporter": "python",
   "pygments_lexer": "ipython3",
   "version": "3.10.12"
  }
 },
 "nbformat": 4,
 "nbformat_minor": 5
}
